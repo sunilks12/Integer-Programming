{
 "cells": [
  {
   "cell_type": "markdown",
   "id": "bb085397",
   "metadata": {},
   "source": [
    "# QUESTION 1"
   ]
  },
  {
   "cell_type": "markdown",
   "id": "7e0533d6",
   "metadata": {},
   "source": [
    "A bank makes four kinds of loans to its customers and these loans yield the following annual interest rates to the bank:\n",
    "\n",
    "• First mortgage 14%\n",
    "• Second mortgage 20%\n",
    "• Home improvement 20%\n",
    "\n",
    "• Personal overdraft 10%\n",
    "\n",
    "We are interested in the bank’s lending strategy. The information we know is as following:\n",
    "\n",
    "1. In total $250 million is lent out.\n",
    "2. First mortgages are 55% of all mortgages (i.e. first and second mortgage) issued.\n",
    "\n",
    "3. Second mortgages are 25% of all loans issued.\n",
    "4. The dollar-weighted average interest rate on all loans is 15%.\n",
    "\n",
    "Calculate the lending strategy using matrix inversion.  How much is lent in home improvement loans?\n",
    "\n",
    " \n",
    "\n",
    "Answer in millions of dollars, rounded to 2 decimal places.  If the answer is $23080444.12, then you should enter 23.08."
   ]
  },
  {
   "cell_type": "code",
   "execution_count": 90,
   "id": "3901a181",
   "metadata": {},
   "outputs": [
    {
     "data": {
      "text/plain": [
       "array([76.39, 62.5 , 31.94, 79.17])"
      ]
     },
     "execution_count": 90,
     "metadata": {},
     "output_type": "execute_result"
    }
   ],
   "source": [
    "import numpy as np\n",
    "A = np.zeros((4,4))\n",
    "A[0,:]=[1, 1, 1, 1]\n",
    "A[1,:]=[-0.45,0.55,0,0]\n",
    "A[2,:]=[0.25,-0.75,0.25,0.25]\n",
    "A[3,:]=[0.14, 0.2, 0.2, 0.1]\n",
    "A\n",
    "\n",
    "b = np.array([250000000,0,0,37500000])\n",
    "b\n",
    "abcd = np.linalg.solve(A,b)\n",
    "(abcd/1000000).round(2)"
   ]
  },
  {
   "cell_type": "markdown",
   "id": "d1483129",
   "metadata": {},
   "source": [
    "# QUESTION 2"
   ]
  },
  {
   "cell_type": "markdown",
   "id": "2c2831ad",
   "metadata": {},
   "source": [
    "Rankings are ubiquitous. You may have heard of Google’s PageRank and IMDB movie ratings. The backbone of these systems is Linear Algebra. We want to give you to taste of building your own ranking system to rank sports teams.\n",
    "\n",
    "In a football league one is interested in modeling the ratings of teams based on the margin of victory and not just the outcomes, win/loss/draw. Consider the following data for five teams playing in such a league\n",
    "\n",
    "Screen Shot 2020-08-12 at 11.19.30 AM.png\n",
    "\n",
    "An entry (i, j) = (x-y) in this table represents a match between team i and team j where team i scored x points and team j scored y points. Our task is to first rate the teams and then convert the ratings to rankings.\n",
    "\n",
    "Our goal is to find one number (the rating), ri,  for each team, so that when you compare the ratings between 2 teams, the difference in this rating is equal to the difference in points scored when those 2 teams played each other.  For example, team team 4 beat team 1 by a score of 38-7.  The point difference here is 31 points.  So if we compare team 4's rating to team 1's rating, r4 - r1 = 31.  This is not possible however because there are only 5 teams which leads to 5 values of r, and there were 10 games.  This means there are 5 unknowns and 10 equations, which is a system of equations that cannot be solved.  In this problem, our goal is to find the 5 unknowns that get as close as possible to satisfying the 10 equations!  To do this we will first pose the matrix equation with 5 unknowns and 10 equations and then use a trick from regression to find the closest answer possible.\n",
    "\n",
    " \n",
    "\n",
    "We want\n",
    "\n",
    "yk = ri − rj\n",
    "Here yk is the difference in points scored by teams i, j in the match k and ri, rj are the ratings for teams i and j respectively. Assume N teams and M games.This won't be possible for every team/game, but the following steps will tell us how to find the best r's.\n",
    "\n",
    " \n",
    "\n",
    "Part 1\n",
    "\n",
    "Pose a matrix equation to solve for individual ratings of the form X r = y, the entries for coefficient matrix X represent the difference in ratings for the opponents in each game and y represents the difference in score of each game. Each row in X is a game between 2 teams.  This is the 5 unknown and 10 equation system.\n",
    "\n",
    "Part 2\n",
    "\n",
    "Typically the number of games is much greater than the number of teams, which means our system is overdetermined and we cannot solve the matrix equation by simply inverting the coefficient matrix. However, we can solve for approximate rating using least squares. Consider the normal equation for least squares of the form\n",
    "\n",
    "X⊤X r = X⊤ y\n",
    "\n",
    "If you don't know how to take matrix transpose in python, you can google it.\n",
    "Let M = X⊤X. We can interpret the diagonal elements of M as the number of games played by a team and the off diagonal elements of the matrix M as the negation of the number of games played by team i against team j. Similarly the jth entry for the RHS p = X⊤y is the sum of the difference in points for every game played by team j.\n",
    "Use the information above to determine the entries for M and X⊤y in our new system.\n",
    "\n",
    " \n",
    "\n",
    "Part 3\n",
    "\n",
    "The matrix M is not invertible. So you cannot solve for ratings, r by inverting M. However, to make it invertible you can add a constraint. For simplicity let us assume that all our ratings add to 0.\n",
    "\n",
    "Modify your matrix equation Mr = p to incorporate this constraint and get a new system  \n",
    "\n",
    "Mc r = pc.\n",
    "\n",
    "To do this remove the last row in M and (X⊤ y) and replace it with an equation that guarantees all entries of r sum to 0.\n",
    "\n",
    "Finally, solve for the ratings of the teams with data above and sort them to get team rankings.\n",
    "\n",
    " \n",
    "\n",
    "Which team is the second best team?\n",
    "\n"
   ]
  },
  {
   "cell_type": "code",
   "execution_count": 134,
   "id": "500ecab8",
   "metadata": {},
   "outputs": [
    {
     "data": {
      "text/plain": [
       "array([[ 1., -1.,  0.,  0.,  0.],\n",
       "       [ 1.,  0., -1.,  0.,  0.],\n",
       "       [ 1.,  0.,  0., -1.,  0.],\n",
       "       [ 1.,  0.,  0.,  0., -1.],\n",
       "       [ 0.,  1., -1.,  0.,  0.],\n",
       "       [ 0.,  1.,  0., -1.,  0.],\n",
       "       [ 0.,  1.,  0.,  0., -1.],\n",
       "       [ 0.,  0.,  1., -1.,  0.],\n",
       "       [ 0.,  0.,  1.,  0., -1.],\n",
       "       [ 0.,  0.,  0.,  1., -1.]])"
      ]
     },
     "execution_count": 134,
     "metadata": {},
     "output_type": "execute_result"
    }
   ],
   "source": [
    "A = np.zeros((10,5))\n",
    "A[0,:]=[1, -1, 0, 0, 0]\n",
    "A[1,:]=[1,0,-1,0, 0]\n",
    "A[2,:]=[1,0,0, -1, 0]\n",
    "A[3,:]=[1,0,0, 0, -1]\n",
    "A[4,:]=[0,1,-1,0, 0]\n",
    "A[5,:]=[0, 1, 0,-1,0]\n",
    "A[6,:]=[0,1,0,0, -1]\n",
    "A[7,:]=[0,0,1,-1, 0]\n",
    "A[8,:]=[0,0,1, 0, -1]\n",
    "A[9,:]=[0,0,0,1, -1]\n",
    "\n",
    "A\n"
   ]
  },
  {
   "cell_type": "code",
   "execution_count": 144,
   "id": "a307934b",
   "metadata": {},
   "outputs": [
    {
     "data": {
      "text/plain": [
       "array([-124,   91,  -40,  -17,   90])"
      ]
     },
     "execution_count": 144,
     "metadata": {},
     "output_type": "execute_result"
    }
   ],
   "source": [
    "b = np.array([-124,91,-40,-17,90])\n",
    "b"
   ]
  },
  {
   "cell_type": "code",
   "execution_count": 136,
   "id": "192528a9",
   "metadata": {},
   "outputs": [
    {
     "data": {
      "text/plain": [
       "array([[ 1.,  1.,  1.,  1.,  0.,  0.,  0.,  0.,  0.,  0.],\n",
       "       [-1.,  0.,  0.,  0.,  1.,  1.,  1.,  0.,  0.,  0.],\n",
       "       [ 0., -1.,  0.,  0., -1.,  0.,  0.,  1.,  1.,  0.],\n",
       "       [ 0.,  0., -1.,  0.,  0., -1.,  0., -1.,  0.,  1.],\n",
       "       [ 0.,  0.,  0., -1.,  0.,  0., -1.,  0., -1., -1.]])"
      ]
     },
     "execution_count": 136,
     "metadata": {},
     "output_type": "execute_result"
    }
   ],
   "source": [
    "C=A.transpose()\n",
    "C"
   ]
  },
  {
   "cell_type": "code",
   "execution_count": 146,
   "id": "76f51683",
   "metadata": {},
   "outputs": [
    {
     "data": {
      "text/plain": [
       "array([[ 4., -1., -1., -1., -1.],\n",
       "       [-1.,  4., -1., -1., -1.],\n",
       "       [-1., -1.,  4., -1., -1.],\n",
       "       [-1., -1., -1.,  4., -1.],\n",
       "       [-1., -1., -1., -1.,  4.]])"
      ]
     },
     "execution_count": 146,
     "metadata": {},
     "output_type": "execute_result"
    }
   ],
   "source": [
    "D=C@A\n",
    "D"
   ]
  },
  {
   "cell_type": "code",
   "execution_count": 149,
   "id": "d9359957",
   "metadata": {},
   "outputs": [
    {
     "name": "stderr",
     "output_type": "stream",
     "text": [
      "/var/folders/tm/88gb2w0553n4qjb9yr9nn8sc0000gn/T/ipykernel_32164/1982275485.py:4: FutureWarning: `rcond` parameter will change to the default of machine precision times ``max(M, N)`` where M and N are the input matrix dimensions.\n",
      "To use the future default and silence this warning we advise to pass `rcond=None`, to keep using the old, explicitly pass `rcond=-1`.\n",
      "  np.linalg.lstsq(D,b)\n"
     ]
    },
    {
     "data": {
      "text/plain": [
       "(array([-24.8,  18.2,  -8. ,  -3.4,  18. ]),\n",
       " array([], dtype=float64),\n",
       " 4,\n",
       " array([5.00000000e+00, 5.00000000e+00, 5.00000000e+00, 5.00000000e+00,\n",
       "        7.44760246e-17]))"
      ]
     },
     "execution_count": 149,
     "metadata": {},
     "output_type": "execute_result"
    }
   ],
   "source": [
    "from scipy.linalg import solve\n",
    "\n",
    "#x = solve(D, b)\n",
    "np.linalg.lstsq(D,b)"
   ]
  },
  {
   "cell_type": "code",
   "execution_count": null,
   "id": "6237f758",
   "metadata": {},
   "outputs": [],
   "source": []
  },
  {
   "cell_type": "markdown",
   "id": "b8873e81",
   "metadata": {},
   "source": [
    "# QUESTION 3 "
   ]
  },
  {
   "cell_type": "markdown",
   "id": "1ce577ab",
   "metadata": {},
   "source": [
    "A Lehmer matrix is one whose entries are specified by the following rule\n",
    "\n",
    "Ai,j = i/j if j > i and Ai,j = j/i otherwise\n",
    "\n",
    "Write a function named lehmer_entry which takes two arguments and outputs the value of the entry. Then use “for loop(s)” to generate a 20 by 20 Lehmer Matrix.\n",
    "\n",
    "(Hint: First generate a 4 by 4 matrix with all the elements being 0. Then use for loop(s) and if statement to define the Lehmer matrix. Find the 4 by 4 Lehmer matrix and use the Wikipedia to check. Then you can change the code to run a 20 by 20)\n",
    "\n",
    "Is A symmetric?"
   ]
  },
  {
   "cell_type": "code",
   "execution_count": 152,
   "id": "a4322f6a",
   "metadata": {},
   "outputs": [],
   "source": [
    "def lehmer_entry(i,j):\n",
    "    \n",
    "    if j>=i:\n",
    "        return i/j\n",
    "    else:\n",
    "        return j/i\n",
    "    "
   ]
  },
  {
   "cell_type": "code",
   "execution_count": 153,
   "id": "a9846fbd",
   "metadata": {},
   "outputs": [],
   "source": [
    "\n",
    "def get_lehmer_matrix(n):\n",
    "    A=np.zeros([n,n])\n",
    "    for i in range(n):\n",
    "        for j in range(n):\n",
    "            A[i][j]=lehmer_entry(i+1,j+1)\n",
    "    return A\n"
   ]
  },
  {
   "cell_type": "code",
   "execution_count": 154,
   "id": "3bef34d3",
   "metadata": {},
   "outputs": [],
   "source": [
    "A=get_lehmer_matrix(20)\n",
    "#A"
   ]
  },
  {
   "cell_type": "code",
   "execution_count": 37,
   "id": "5375a820",
   "metadata": {},
   "outputs": [],
   "source": [
    "def lehmer_entry(i,j):\n",
    "    \n",
    "    if j>=i:\n",
    "        return i/j\n",
    "    else:\n",
    "        return j/i\n"
   ]
  },
  {
   "cell_type": "code",
   "execution_count": 40,
   "id": "56bfde89",
   "metadata": {},
   "outputs": [
    {
     "data": {
      "text/plain": [
       "0.5"
      ]
     },
     "execution_count": 40,
     "metadata": {},
     "output_type": "execute_result"
    }
   ],
   "source": [
    "lehmer_entry(100,50)"
   ]
  },
  {
   "cell_type": "code",
   "execution_count": 156,
   "id": "52bb7b59",
   "metadata": {},
   "outputs": [],
   "source": [
    "#A"
   ]
  },
  {
   "cell_type": "code",
   "execution_count": null,
   "id": "d55489b0",
   "metadata": {},
   "outputs": [],
   "source": []
  },
  {
   "cell_type": "markdown",
   "id": "17bf08ed",
   "metadata": {},
   "source": [
    "# QUESTION 4"
   ]
  },
  {
   "cell_type": "markdown",
   "id": "0cfd6312",
   "metadata": {},
   "source": [
    "Going back to the Lehmer matrix problem.\n",
    "\n",
    " \n",
    "\n",
    "Calculate the inverse of A and assign it to C.\n",
    "\n",
    "Assign [1 2 3 4 5 6 7 8 9 10 10 9 8 7 6 5 4 3 2 1] to d.\n",
    "\n",
    "Solve for x in the equation Ax = Cd\n",
    "\n",
    "What is x10 ? Round to 1 decimal place.  Be careful if the answer you get is in scientific notation.\n",
    "\n"
   ]
  },
  {
   "cell_type": "code",
   "execution_count": 157,
   "id": "6a4494eb",
   "metadata": {},
   "outputs": [],
   "source": [
    "C=np.linalg.inv(A)\n",
    "#C"
   ]
  },
  {
   "cell_type": "code",
   "execution_count": 158,
   "id": "04de8eff",
   "metadata": {},
   "outputs": [],
   "source": [
    "d=[1,2,3,4,5,6,7,8,9,10,10,9,8,7,6,5,4,3,2,1]"
   ]
  },
  {
   "cell_type": "code",
   "execution_count": 159,
   "id": "70c83792",
   "metadata": {},
   "outputs": [],
   "source": [
    "b=C@d"
   ]
  },
  {
   "cell_type": "code",
   "execution_count": 160,
   "id": "3fe25747",
   "metadata": {},
   "outputs": [
    {
     "name": "stderr",
     "output_type": "stream",
     "text": [
      "/var/folders/tm/88gb2w0553n4qjb9yr9nn8sc0000gn/T/ipykernel_32164/1457844355.py:1: FutureWarning: `rcond` parameter will change to the default of machine precision times ``max(M, N)`` where M and N are the input matrix dimensions.\n",
      "To use the future default and silence this warning we advise to pass `rcond=None`, to keep using the old, explicitly pass `rcond=-1`.\n",
      "  x = np.linalg.lstsq(A,b)\n"
     ]
    }
   ],
   "source": [
    "x = np.linalg.lstsq(A,b)"
   ]
  },
  {
   "cell_type": "code",
   "execution_count": 161,
   "id": "fd13e418",
   "metadata": {},
   "outputs": [
    {
     "data": {
      "text/plain": [
       "array([ 1.92438658e-15, -6.51330841e-15,  1.50162732e-14, -4.17727939e-14,\n",
       "        9.70145375e-14, -1.95113358e-13,  2.76663383e-13,  1.02337149e-14,\n",
       "       -2.48120301e+01,  2.00642393e+01,  3.58137507e+01, -3.00626280e+01,\n",
       "       -3.73699570e-04, -2.77204400e-04, -2.09968769e-04, -1.61954093e-04,\n",
       "       -1.26922825e-04, -1.00877939e-04,  9.50593309e+01, -1.00062903e+02])"
      ]
     },
     "execution_count": 161,
     "metadata": {},
     "output_type": "execute_result"
    }
   ],
   "source": [
    "from scipy.linalg import solve\n",
    "x = solve(A, b)\n",
    "x"
   ]
  },
  {
   "cell_type": "code",
   "execution_count": 162,
   "id": "58cce95a",
   "metadata": {},
   "outputs": [
    {
     "data": {
      "text/plain": [
       "20.1"
      ]
     },
     "execution_count": 162,
     "metadata": {},
     "output_type": "execute_result"
    }
   ],
   "source": [
    "x[9].round(1)"
   ]
  },
  {
   "cell_type": "code",
   "execution_count": null,
   "id": "a51314ee",
   "metadata": {},
   "outputs": [],
   "source": []
  }
 ],
 "metadata": {
  "kernelspec": {
   "display_name": "Python 3 (ipykernel)",
   "language": "python",
   "name": "python3"
  },
  "language_info": {
   "codemirror_mode": {
    "name": "ipython",
    "version": 3
   },
   "file_extension": ".py",
   "mimetype": "text/x-python",
   "name": "python",
   "nbconvert_exporter": "python",
   "pygments_lexer": "ipython3",
   "version": "3.10.5"
  }
 },
 "nbformat": 4,
 "nbformat_minor": 5
}
