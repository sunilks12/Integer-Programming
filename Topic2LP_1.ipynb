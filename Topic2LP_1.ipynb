{
  "cells": [
    {
      "cell_type": "code",
      "execution_count": 2,
      "metadata": {
        "colab": {
          "base_uri": "https://localhost:8080/"
        },
        "id": "YfyR21XkQufx",
        "outputId": "069f40bc-6644-4380-8333-c1582b566f1a"
      },
      "outputs": [
        {
          "output_type": "stream",
          "name": "stdout",
          "text": [
            "Looking in indexes: https://pypi.org/simple, https://us-python.pkg.dev/colab-wheels/public/simple/\n",
            "Collecting gurobipy\n",
            "  Downloading gurobipy-9.5.2-cp37-cp37m-manylinux2014_x86_64.whl (11.5 MB)\n",
            "\u001b[K     |████████████████████████████████| 11.5 MB 18.6 MB/s \n",
            "\u001b[?25hInstalling collected packages: gurobipy\n",
            "Successfully installed gurobipy-9.5.2\n"
          ]
        }
      ],
      "source": [
        "!pip install gurobipy\n",
        "import numpy as np\n",
        "import gurobipy as gp\n",
        "\n"
      ]
    },
    {
      "cell_type": "markdown",
      "metadata": {
        "id": "S6DCgjsPQufy"
      },
      "source": [
        "# OJ Example"
      ]
    },
    {
      "cell_type": "code",
      "execution_count": 3,
      "metadata": {
        "id": "fGeVas0VQufz"
      },
      "outputs": [],
      "source": [
        "obj = np.array([500,450]) # objective vector\n",
        "A = np.zeros((3,2)) # initialize constraint matrix\n",
        "A[0,:] = [6,5] # production constraint\n",
        "A[1,:] = [10,20] # storage constraint\n",
        "A[2,:] = [1,0] # demand constraint\n",
        "b = np.array([60,150,8]) # limits on production, storage, and demand\n",
        "sense = np.array(['<','<','<']) # all constraints are less than or equal constraints"
      ]
    },
    {
      "cell_type": "code",
      "execution_count": 4,
      "metadata": {
        "colab": {
          "base_uri": "https://localhost:8080/"
        },
        "id": "ulnphVJgQufz",
        "outputId": "9051f26c-d8a0-40e4-f012-2eb3e94b96f0"
      },
      "outputs": [
        {
          "output_type": "stream",
          "name": "stdout",
          "text": [
            "[[ 6.  5.]\n",
            " [10. 20.]\n",
            " [ 1.  0.]]\n"
          ]
        }
      ],
      "source": [
        "print(A)"
      ]
    },
    {
      "cell_type": "code",
      "execution_count": null,
      "metadata": {
        "id": "UsVobWlpQufz"
      },
      "outputs": [],
      "source": [
        "ojModel = gp.Model() # initialize an empty model\n",
        "\n",
        "ojModX = ojModel.addMVar(2) # tell the model how many variables there are\n",
        "# must define the variables before adding constraints because variables go into the constraints\n",
        "ojModCon = ojModel.addMConstrs(A, ojModX, sense, b) # add the constraints to the model\n",
        "ojModel.setMObjective(None,obj,0,sense=gp.GRB.MAXIMIZE) # add the objective to the model...we'll talk about the None and the 0\n",
        "\n",
        "ojModel.Params.OutputFlag = 0 # tell gurobi to shut up!!\n",
        "ojModel.Params.TimeLimit = 3600"
      ]
    },
    {
      "cell_type": "code",
      "execution_count": null,
      "metadata": {
        "id": "G_ymUPieQufz"
      },
      "outputs": [],
      "source": [
        "ojModel.optimize() # solve the LP"
      ]
    },
    {
      "cell_type": "code",
      "execution_count": null,
      "metadata": {
        "id": "e3yUhCnxQufz"
      },
      "outputs": [],
      "source": [
        "ojModel.objVal # optimal revenue level"
      ]
    },
    {
      "cell_type": "code",
      "execution_count": null,
      "metadata": {
        "id": "uPwCjc42Quf0"
      },
      "outputs": [],
      "source": [
        "ojModX.x # how many (hundreds) to make of each size glass"
      ]
    },
    {
      "cell_type": "code",
      "execution_count": null,
      "metadata": {
        "id": "TfLo3Fh9Quf0"
      },
      "outputs": [],
      "source": []
    },
    {
      "cell_type": "markdown",
      "metadata": {
        "id": "Jz3Xen-PQuf0"
      },
      "source": [
        "# Train Example"
      ]
    },
    {
      "cell_type": "code",
      "execution_count": null,
      "metadata": {
        "id": "e_8pcRq8Quf1"
      },
      "outputs": [],
      "source": [
        "obj = np.array([2000,2500,5000,3500]*3) # 3 cars, each get same profit per ton of product in car\n",
        "\n",
        "A = np.zeros((10,12))\n",
        "A[0,0:4] = 1 # total tons in car 1\n",
        "A[1,4:8] = 1 # total tons in car 2\n",
        "A[2,8:12] = 1 # total tons in car 3\n",
        "A[3,0:4] = [400,300,200,500] # volume in car 1\n",
        "A[4,4:8] = [400,300,200,500] # volume in car 2\n",
        "A[5,8:12] = [400,300,200,500] # volume in car 3\n",
        "# sum tons in each car of each product to get tons available constraint\n",
        "A[6:10,0:4] = np.diag(np.ones(4)) \n",
        "A[6:10,4:8] = np.diag(np.ones(4))\n",
        "A[6:10,8:12] = np.diag(np.ones(4))\n",
        "print(A)\n",
        "b = np.array([10,8,12,5000,4000,8000,18,10,5,20])\n",
        "sense = np.array(['<']*10)"
      ]
    },
    {
      "cell_type": "code",
      "execution_count": null,
      "metadata": {
        "id": "Tr6tkcLAQuf1"
      },
      "outputs": [],
      "source": [
        "trainMod = gp.Model()\n",
        "\n",
        "Trainx = trainMod.addMVar(len(obj)) # tell the model how many variables there are\n",
        "# must define the variables before adding constraints because variables go into the constraints\n",
        "TrainModCon = trainMod.addMConstrs(A, Trainx, sense, b) # add the constraints to the model\n",
        "trainMod.setMObjective(None,obj,0,sense=gp.GRB.MAXIMIZE) # add the objective to the model...we'll talk about the None and the 0\n",
        "\n",
        "trainMod.Params.OutputFlag = 0 # tell gurobi to shut up!!\n",
        "trainMod.optimize()"
      ]
    },
    {
      "cell_type": "code",
      "execution_count": null,
      "metadata": {
        "id": "s9nhBJw7Quf1"
      },
      "outputs": [],
      "source": [
        "trainMod.objVal"
      ]
    },
    {
      "cell_type": "code",
      "execution_count": null,
      "metadata": {
        "id": "yNSIpOQmQuf1"
      },
      "outputs": [],
      "source": [
        "Trainx.x"
      ]
    },
    {
      "cell_type": "code",
      "execution_count": null,
      "metadata": {
        "id": "AbSEta_CQuf1"
      },
      "outputs": [],
      "source": [
        "trainMod.Status"
      ]
    },
    {
      "cell_type": "code",
      "execution_count": null,
      "metadata": {
        "id": "117i6vh9Quf1"
      },
      "outputs": [],
      "source": []
    },
    {
      "cell_type": "markdown",
      "metadata": {
        "id": "Qa_P-p5rQuf1"
      },
      "source": [
        "# Refining Example"
      ]
    },
    {
      "cell_type": "code",
      "execution_count": null,
      "metadata": {
        "id": "WETmFBqgQuf2"
      },
      "outputs": [],
      "source": [
        "obj = np.array([20,15]) # barrels of Saudi and Ven oil\n",
        "\n",
        "A = np.zeros((3,2))\n",
        "A[0,] = [0.3,0.4] # gasoline constraint\n",
        "A[1,] = [0.4,0.2] # jet fuel constraint\n",
        "A[2,] = [0.2,0.3] # lube constraint\n",
        "\n",
        "ub = np.array([9000,6000]) # saudi and ven upper bound\n",
        "\n",
        "b = np.array([2000,1500,500])\n",
        "\n",
        "sense = np.array(['>','>','>'])\n"
      ]
    },
    {
      "cell_type": "code",
      "execution_count": null,
      "metadata": {
        "id": "JO5pexXhQuf2"
      },
      "outputs": [],
      "source": [
        "refMod = gp.Model()\n",
        "refX = refMod.addMVar(len(obj),ub=ub)\n",
        "refModCon = refMod.addMConstrs(A, refX, sense, b)\n",
        "refMod.setMObjective(None,obj,0,sense=gp.GRB.MINIMIZE)\n",
        "refMod.Params.OutputFlag=0\n",
        "refMod.optimize()"
      ]
    },
    {
      "cell_type": "code",
      "execution_count": null,
      "metadata": {
        "id": "aLl5W7s7Quf2"
      },
      "outputs": [],
      "source": [
        "refMod.objVal"
      ]
    },
    {
      "cell_type": "code",
      "execution_count": null,
      "metadata": {
        "id": "dfBYu9OkQuf2"
      },
      "outputs": [],
      "source": [
        "refX.x"
      ]
    },
    {
      "cell_type": "code",
      "execution_count": null,
      "metadata": {
        "id": "bANeW-L0Quf2"
      },
      "outputs": [],
      "source": []
    }
  ],
  "metadata": {
    "kernelspec": {
      "display_name": "Python 3 (ipykernel)",
      "language": "python",
      "name": "python3"
    },
    "language_info": {
      "codemirror_mode": {
        "name": "ipython",
        "version": 3
      },
      "file_extension": ".py",
      "mimetype": "text/x-python",
      "name": "python",
      "nbconvert_exporter": "python",
      "pygments_lexer": "ipython3",
      "version": "3.7.13"
    },
    "colab": {
      "provenance": []
    }
  },
  "nbformat": 4,
  "nbformat_minor": 0
}