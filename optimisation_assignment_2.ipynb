{
  "nbformat": 4,
  "nbformat_minor": 0,
  "metadata": {
    "colab": {
      "provenance": [],
      "collapsed_sections": []
    },
    "kernelspec": {
      "name": "python3",
      "display_name": "Python 3"
    },
    "language_info": {
      "name": "python"
    }
  },
  "cells": [
    {
      "cell_type": "code",
      "source": [],
      "metadata": {
        "id": "OeTktZm2OyCY"
      },
      "execution_count": null,
      "outputs": []
    },
    {
      "cell_type": "code",
      "source": [
        "!pip install gurobipy\n",
        "import numpy as np\n",
        "import gurobipy as gp\n",
        "\n"
      ],
      "metadata": {
        "colab": {
          "base_uri": "https://localhost:8080/"
        },
        "id": "tPSfpEVBOyFO",
        "outputId": "a56c8a23-d061-4210-d15b-1cc0b799641b"
      },
      "execution_count": 7,
      "outputs": [
        {
          "output_type": "stream",
          "name": "stdout",
          "text": [
            "Looking in indexes: https://pypi.org/simple, https://us-python.pkg.dev/colab-wheels/public/simple/\n",
            "Collecting gurobipy\n",
            "  Downloading gurobipy-9.5.2-cp37-cp37m-manylinux2014_x86_64.whl (11.5 MB)\n",
            "\u001b[K     |████████████████████████████████| 11.5 MB 6.6 MB/s \n",
            "\u001b[?25hInstalling collected packages: gurobipy\n",
            "Successfully installed gurobipy-9.5.2\n"
          ]
        }
      ]
    },
    {
      "cell_type": "markdown",
      "source": [
        "**QUESTION 1**"
      ],
      "metadata": {
        "id": "bQFBwLrNO1aM"
      }
    },
    {
      "cell_type": "markdown",
      "source": [
        "Max is in a pie eating contest that lasts 1 hour. Each torte that he eats takes 2 minutes to eat. Each apple pie that he eats takes 3 minutes. He receives 4 points for each torte and 5 points for each pie. Find the number of tortes and apple pies Max should eat to get the most points. Solve the problem using the graphical method.\n",
        "\n",
        "Next, let’s see what happens if he would like to stick to his preference of eating at least as many pies as tortes. That is; the number of pies he eats should be greater than or equal to the number of tortes.\n",
        "\n",
        " \n",
        "\n",
        "By how many points does this constraint decrease Max’s total points? (this is the part you will submit to the canvas answer.)"
      ],
      "metadata": {
        "id": "qJY57pIoOyya"
      }
    },
    {
      "cell_type": "code",
      "source": [
        "obj = np.array([4,5]) # objective vector\n",
        "A = np.zeros((3,2)) # initialize constraint matrix\n",
        "A[0,:] = [2,3] # production constraint\n",
        "A[1,:] = [1,0] # storage constraint\n",
        "A[2,:] = [0,1] # demand constraint\n",
        "#A[3,:] = [1,-1]\n",
        "b = np.array([60,0,0]) # limits on production, storage, and demand\n",
        "sense = np.array(['<','>','>']) # all constraints are less than or equal constraints"
      ],
      "metadata": {
        "id": "ahnrNIjPOzxQ"
      },
      "execution_count": null,
      "outputs": []
    },
    {
      "cell_type": "code",
      "source": [
        "ojModel = gp.Model() # initialize an empty model\n",
        "\n",
        "ojModX = ojModel.addMVar(2) # tell the model how many variables there are\n",
        "#ojModX = ojModel.addMVar(2,lb=np.array([-np.inf,0]),ubnp.array([0,np/inf]))\n",
        "# must define the variables before adding constraints because variables go into the constraints\n",
        "ojModCon = ojModel.addMConstrs(A, ojModX, sense, b) # add the constraints to the model\n",
        "ojModel.setMObjective(None,obj,0,sense=gp.GRB.MAXIMIZE) # add the objective to the model...we'll talk about the None and the 0\n",
        "\n",
        "ojModel.Params.OutputFlag = 0 # tell gurobi to shut up!!\n",
        "ojModel.Params.TimeLimit = 3600"
      ],
      "metadata": {
        "id": "gYg7tFcUQkuU"
      },
      "execution_count": null,
      "outputs": []
    },
    {
      "cell_type": "code",
      "source": [
        "ojModel.optimize() # solve the LP\n",
        "ojModel.objVal # optimal revenue level"
      ],
      "metadata": {
        "colab": {
          "base_uri": "https://localhost:8080/"
        },
        "id": "VN9OxFwsQkwv",
        "outputId": "049676e5-4eb1-41c7-a787-6651b1805fef"
      },
      "execution_count": null,
      "outputs": [
        {
          "output_type": "execute_result",
          "data": {
            "text/plain": [
              "120.0"
            ]
          },
          "metadata": {},
          "execution_count": 24
        }
      ]
    },
    {
      "cell_type": "code",
      "source": [
        "ojModX.x # how many (hundreds) to make of each size glass"
      ],
      "metadata": {
        "colab": {
          "base_uri": "https://localhost:8080/"
        },
        "id": "b9DuAbwbQk70",
        "outputId": "d4d53d0a-1f04-4478-b4a8-35b5cfaf68df"
      },
      "execution_count": null,
      "outputs": [
        {
          "output_type": "execute_result",
          "data": {
            "text/plain": [
              "array([30.,  0.])"
            ]
          },
          "metadata": {},
          "execution_count": 25
        }
      ]
    },
    {
      "cell_type": "code",
      "source": [
        "obj = np.array([4,5]) # objective vector\n",
        "A = np.zeros((4,2)) # initialize constraint matrix\n",
        "A[0,:] = [2,3] # production constraint\n",
        "A[1,:] = [1,0] # storage constraint\n",
        "A[2,:] = [0,1] # demand constraint\n",
        "A[3,:] = [1,-1]\n",
        "b = np.array([60,0,0,0]) # limits on production, storage, and demand\n",
        "sense = np.array(['<','>','>','<']) # all constraints are less than or equal constraints\n",
        "ojModel = gp.Model() # initialize an empty model\n",
        "\n",
        "ojModX = ojModel.addMVar(2) # tell the model how many variables there are\n",
        "#ojModX = ojModel.addMVar(2,lb=np.array([-np.inf,0]),ubnp.array([0,np/inf]))\n",
        "# must define the variables before adding constraints because variables go into the constraints\n",
        "ojModCon = ojModel.addMConstrs(A, ojModX, sense, b) # add the constraints to the model\n",
        "ojModel.setMObjective(None,obj,0,sense=gp.GRB.MAXIMIZE) # add the objective to the model...we'll talk about the None and the 0\n",
        "\n",
        "ojModel.Params.OutputFlag = 0 # tell gurobi to shut up!!\n",
        "ojModel.Params.TimeLimit = 3600\n",
        "ojModel.optimize() # solve the LP\n",
        "ojModel.objVal # optimal revenue level\n",
        "ojModX.x # how many (hundreds) to make of each size glass\n"
      ],
      "metadata": {
        "colab": {
          "base_uri": "https://localhost:8080/"
        },
        "id": "u7oT4doVSNTY",
        "outputId": "f51639e1-bba4-4f5c-b359-1c6ffbd22676"
      },
      "execution_count": null,
      "outputs": [
        {
          "output_type": "execute_result",
          "data": {
            "text/plain": [
              "array([12., 12.])"
            ]
          },
          "metadata": {},
          "execution_count": 27
        }
      ]
    },
    {
      "cell_type": "code",
      "source": [
        "# answer \n",
        "12"
      ],
      "metadata": {
        "id": "ObJUh-kqSNVz",
        "colab": {
          "base_uri": "https://localhost:8080/"
        },
        "outputId": "723e0bf1-40ab-49a1-fabe-553b6c4c4cdd"
      },
      "execution_count": 31,
      "outputs": [
        {
          "output_type": "execute_result",
          "data": {
            "text/plain": [
              "12"
            ]
          },
          "metadata": {},
          "execution_count": 31
        }
      ]
    },
    {
      "cell_type": "markdown",
      "source": [
        "**QUESTION 2**\n",
        "\n",
        "A farmer in Iowa owns 450 acres of land. He is going to plant each acre with wheat or corn. Each acre planted with wheat (corn) yields $2,000 ($3,000) profit, requires three (two) workers, and requires two (four) tons of fertilizer. There are currently 1,000 workers and 1,200 tons of fertilizer available.\n",
        "\n",
        " \n",
        "\n",
        "Formulate and solve this problem using gurobi.\n",
        "\n",
        " \n",
        "\n",
        "Next we want to see What happens to the decision variables and the total profit when the availability of fertilizer varies from 200 tons to 2200 tons in 100-ton increments.\n",
        "\n",
        " \n",
        "\n",
        "At what level of fertilizer does the farmer discontinue producing wheat?  That is, what is the smallest level of available fertilizer that results in no wheat being produced?  Your answer should be one of the 100 ton incremental numbers, like 600 or 1300 or..."
      ],
      "metadata": {
        "id": "8SVtGcTmQlfH"
      }
    },
    {
      "cell_type": "code",
      "source": [
        "obj = np.array([2000,3000]) # objective vector\n",
        "A = np.zeros((5,2)) # initialize constraint matrix\n",
        "A[0,:] = [3,2] # production constraint\n",
        "A[1,:] = [2,4] # storage constraint\n",
        "A[2,:] = [1,1] # demand constraint\n",
        "A[3,:] = [1,0]\n",
        "A[4,:] = [0,1]\n",
        "b = np.array([1000,1200,450,0,0]) # limits on production, storage, and demand\n",
        "sense = np.array(['<','<','<','>','>']) # all constraints are less than or equal constraints"
      ],
      "metadata": {
        "id": "f8txhbGIQpZF"
      },
      "execution_count": null,
      "outputs": []
    },
    {
      "cell_type": "code",
      "source": [
        "ojModel = gp.Model() # initialize an empty model\n",
        "\n",
        "ojModX = ojModel.addMVar(2) # tell the model how many variables there are\n",
        "#ojModX = ojModel.addMVar(2,lb=np.array([-np.inf,0]),ubnp.array([0,np/inf]))\n",
        "# must define the variables before adding constraints because variables go into the constraints\n",
        "ojModCon = ojModel.addMConstrs(A, ojModX, sense, b) # add the constraints to the model\n",
        "ojModel.setMObjective(None,obj,0,sense=gp.GRB.MAXIMIZE) # add the objective to the model...we'll talk about the None and the 0\n"
      ],
      "metadata": {
        "id": "jNFJkaKUQqLq",
        "colab": {
          "base_uri": "https://localhost:8080/"
        },
        "outputId": "3cbea1ad-6fd2-48ee-d263-f9b54e939025"
      },
      "execution_count": null,
      "outputs": [
        {
          "output_type": "stream",
          "name": "stdout",
          "text": [
            "Restricted license - for non-production use only - expires 2023-10-25\n"
          ]
        }
      ]
    },
    {
      "cell_type": "code",
      "source": [
        "\n",
        "ojModel.Params.OutputFlag = 0 # tell gurobi to shut up!!\n",
        "ojModel.Params.TimeLimit = 3600\n",
        "\n"
      ],
      "metadata": {
        "id": "DbljU2HcQqOH"
      },
      "execution_count": null,
      "outputs": []
    },
    {
      "cell_type": "code",
      "source": [
        "ojModel.optimize() # solve the LP\n"
      ],
      "metadata": {
        "id": "E_l5a_OCQqS9"
      },
      "execution_count": null,
      "outputs": []
    },
    {
      "cell_type": "code",
      "source": [
        "ojModel.objVal # optimal revenue level\n"
      ],
      "metadata": {
        "colab": {
          "base_uri": "https://localhost:8080/"
        },
        "id": "xJh_AgzWQqWB",
        "outputId": "f64d0391-275c-422b-f768-82e94ebce87e"
      },
      "execution_count": null,
      "outputs": [
        {
          "output_type": "execute_result",
          "data": {
            "text/plain": [
              "1000000.0"
            ]
          },
          "metadata": {},
          "execution_count": 6
        }
      ]
    },
    {
      "cell_type": "code",
      "source": [
        "ojModX.x "
      ],
      "metadata": {
        "colab": {
          "base_uri": "https://localhost:8080/"
        },
        "id": "Oah0v5qJQq2f",
        "outputId": "21ab9b94-e045-4f9e-d9fb-27880cedb713"
      },
      "execution_count": null,
      "outputs": [
        {
          "output_type": "execute_result",
          "data": {
            "text/plain": [
              "array([200., 200.])"
            ]
          },
          "metadata": {},
          "execution_count": 7
        }
      ]
    },
    {
      "cell_type": "code",
      "source": [
        "for x in range(200, 2300, 100):\n",
        "  b = np.array([1000,x,450,0,0])\n",
        "  ojModel = gp.Model() # initialize an empty model\n",
        "\n",
        "  ojModX = ojModel.addMVar(2) # tell the model how many variables there are\n",
        "#ojModX = ojModel.addMVar(2,lb=np.array([-np.inf,0]),ubnp.array([0,np/inf]))\n",
        "# must define the variables before adding constraints because variables go into the constraints\n",
        "  ojModCon = ojModel.addMConstrs(A, ojModX, sense, b) # add the constraints to the model\n",
        "  ojModel.setMObjective(None,obj,0,sense=gp.GRB.MAXIMIZE) # add the objective to the model..\n",
        "  ojModel.Params.OutputFlag = 0 # tell gurobi to shut up!!\n",
        "  ojModel.Params.TimeLimit = 3600\n",
        "  ojModel.optimize()\n",
        "  print(x,ojModX.x)\n",
        "  "
      ],
      "metadata": {
        "colab": {
          "base_uri": "https://localhost:8080/"
        },
        "id": "d-qN6twBAXsQ",
        "outputId": "688a7072-9767-4bb7-bf9f-0c8483ea47b7"
      },
      "execution_count": null,
      "outputs": [
        {
          "output_type": "stream",
          "name": "stdout",
          "text": [
            "200 [100.   0.]\n",
            "300 [150.   0.]\n",
            "400 [200.   0.]\n",
            "500 [250.   0.]\n",
            "600 [300.   0.]\n",
            "700 [325.   12.5]\n",
            "800 [300.  50.]\n",
            "900 [275.   87.5]\n",
            "1000 [250. 125.]\n",
            "1100 [225.  162.5]\n",
            "1200 [200. 200.]\n",
            "1300 [175.  237.5]\n",
            "1400 [150. 275.]\n",
            "1500 [125.  312.5]\n",
            "1600 [100. 350.]\n",
            "1700 [ 50. 400.]\n",
            "1800 [  0. 450.]\n",
            "1900 [  0. 450.]\n",
            "2000 [  0. 450.]\n",
            "2100 [  0. 450.]\n",
            "2200 [  0. 450.]\n"
          ]
        }
      ]
    },
    {
      "cell_type": "code",
      "source": [
        "# answer\n",
        "1800"
      ],
      "metadata": {
        "id": "Zpci3jhYAXu_",
        "colab": {
          "base_uri": "https://localhost:8080/"
        },
        "outputId": "43e1b566-fee4-4948-c161-16b1461e6393"
      },
      "execution_count": 30,
      "outputs": [
        {
          "output_type": "execute_result",
          "data": {
            "text/plain": [
              "1800"
            ]
          },
          "metadata": {},
          "execution_count": 30
        }
      ]
    },
    {
      "cell_type": "code",
      "source": [],
      "metadata": {
        "id": "y3e6_O4oAXxn"
      },
      "execution_count": null,
      "outputs": []
    },
    {
      "cell_type": "markdown",
      "source": [
        "**QUESTION 3**\n",
        "\n",
        "Star Oil Company is considering five different investment opportunities. The table below gives the required cash outflows and net present values in millions of dollars.\n",
        "\n",
        "Star Oil has $40 million available for investment now (time 0); it estimates that one year from now (time 1) $20 million will be available for investment. Star Oil may purchase any fraction of each investment, but no more than 100% of each opportunity. In this case, the cash outflows and NPV are adjusted accordingly.\n",
        "\n",
        "For example, if Star Oil purchases one-fifth of investment 3, then a cash outflow of 1/5 × 5 = 1 million dollars would be required at time 0, and a cash outflow of 1/5 × 5 = 1 million would be required at time 1. The one-fifth share of investment three would yield an NPV of 1/5 ∗ 16 = 3.2 million dollars. Star Oil wants to maximize the NPV that can be obtained by investing in investments 1-5. Formulate an LP that will help achieve this goal. Assume that any funds leftover at time 0 cannot be used at time 1.\n",
        "\n",
        " \n",
        "\n",
        "What percentage of opportunity 3 should be Star Oil invest in?  Answer in decimals, so if your answer is 54%, you should input 0.54.  Round 2 to decimal places\n",
        "\n"
      ],
      "metadata": {
        "id": "7tLR--5SQrUo"
      }
    },
    {
      "cell_type": "code",
      "source": [
        "obj = np.array([13,16,16,14,39]) # objective vector\n",
        "A = np.zeros((12,5)) # initialize constraint matrix\n",
        "A[0,:] = [11,53,5,5,29] # production constraint\n",
        "A[1,:] = [3,6,5,1,34] # storage constraint\n",
        "A[2,:] = [1,0,0,0,0] # demand constraint\n",
        "A[3,:] = [0,1,0,0,0]\n",
        "A[4,:] = [0,0,1,0,0]\n",
        "A[5,:] = [0,0,0,1,0]\n",
        "A[6,:] = [0,0,0,0,1]\n",
        "A[7,:] = [1,0,0,0,0]\n",
        "A[8,:] = [0,1,0,0,0]\n",
        "A[9,:] = [0,0,1,0,0]\n",
        "A[10,:] = [0,0,0,1,0]\n",
        "A[11,:] = [0,0,0,0,1]\n",
        "b = np.array([40,20,1,1,1,1,1,0,0,0,0,0]) # limits on production, storage, and demand\n",
        "\n",
        "sense = np.array(['<','<','<','<','<','<','<','>','>','>','>','>'])"
      ],
      "metadata": {
        "id": "nXpYL-gCQ2_9"
      },
      "execution_count": null,
      "outputs": []
    },
    {
      "cell_type": "code",
      "source": [
        "b"
      ],
      "metadata": {
        "colab": {
          "base_uri": "https://localhost:8080/"
        },
        "id": "S6awWLm5E2V1",
        "outputId": "9f3b8d81-b712-4c63-fabc-b4a158bae17d"
      },
      "execution_count": null,
      "outputs": [
        {
          "output_type": "execute_result",
          "data": {
            "text/plain": [
              "array([40, 20,  1,  1,  1,  1,  1,  0,  0,  0,  0,  0])"
            ]
          },
          "metadata": {},
          "execution_count": 5
        }
      ]
    },
    {
      "cell_type": "code",
      "source": [
        " # all constraints are less than or equal constraints\n",
        "ojModel = gp.Model() # initialize an empty model\n",
        "\n",
        "ojModX = ojModel.addMVar(5) # tell the model how many variables there are\n",
        "#ojModX = ojModel.addMVar(2,lb=np.array([-np.inf,0]),ubnp.array([0,np/inf]))\n",
        "# must define the variables before adding constraints because variables go into the constraints\n",
        "ojModCon = ojModel.addMConstrs(A, ojModX, sense, b) # add the constraints to the model\n",
        "ojModel.setMObjective(None,obj,0,sense=gp.GRB.MAXIMIZE) # add the objective to the model...we'll talk about the None and the 0\n",
        "\n",
        "ojModel.Params.OutputFlag = 0 # tell gurobi to shut up!!\n",
        "ojModel.Params.TimeLimit = 3600\n",
        "ojModel.optimize() # solve the LP\n",
        "ojModel.objVal # optimal revenue level\n",
        "ojModX.x # how many (hundreds) to make of each size glass"
      ],
      "metadata": {
        "id": "oeOJY3n8Q33V",
        "colab": {
          "base_uri": "https://localhost:8080/"
        },
        "outputId": "3c87951b-8b84-4758-a70d-0d4dab8ad3ac"
      },
      "execution_count": null,
      "outputs": [
        {
          "output_type": "execute_result",
          "data": {
            "text/plain": [
              "array([1.        , 0.20085995, 1.        , 1.        , 0.28808354])"
            ]
          },
          "metadata": {},
          "execution_count": 6
        }
      ]
    },
    {
      "cell_type": "code",
      "source": [
        "# answer\n",
        "1"
      ],
      "metadata": {
        "id": "n9-3Qw9oQ359",
        "colab": {
          "base_uri": "https://localhost:8080/"
        },
        "outputId": "ee8568c7-0f2f-43e7-ae9d-9de267491f04"
      },
      "execution_count": 29,
      "outputs": [
        {
          "output_type": "execute_result",
          "data": {
            "text/plain": [
              "1"
            ]
          },
          "metadata": {},
          "execution_count": 29
        }
      ]
    },
    {
      "cell_type": "code",
      "source": [],
      "metadata": {
        "id": "0d34JuaPQ38e"
      },
      "execution_count": null,
      "outputs": []
    },
    {
      "cell_type": "code",
      "source": [],
      "metadata": {
        "id": "zGjEnSxHQ3_m"
      },
      "execution_count": null,
      "outputs": []
    },
    {
      "cell_type": "code",
      "source": [],
      "metadata": {
        "id": "Tgs29BOsQ4Cp"
      },
      "execution_count": null,
      "outputs": []
    },
    {
      "cell_type": "code",
      "source": [],
      "metadata": {
        "id": "MRZ2Zi23Q4FJ"
      },
      "execution_count": null,
      "outputs": []
    },
    {
      "cell_type": "markdown",
      "source": [
        "**QUESTION 4**\n",
        "\n",
        "The goal of this problem is to select a set of foods that will satisfy a set of daily nutritional requirement at minimum cost. Suppose there are three foods available, corn, milk, and bread. There are restrictions on the number of calories (between 2000 and 2250) and the amount of Vitamin A (between 5000 and 50,000) that can be eaten. The table below shows, for each food, the cost per serving, the amount of Vitamin A per serving, and the number of calories per serving. Also, the maximum number of servings for each food is 10.\n",
        "\n",
        "How many servings of corn should you eat?  Round to 2 decimal places."
      ],
      "metadata": {
        "id": "tzU_ZaIPQ5Di"
      }
    },
    {
      "cell_type": "code",
      "source": [
        "obj = np.array([0.18,0.23,0.05]) # objective vector\n",
        "A = np.zeros((7,3)) # initialize constraint matrix\n",
        "A[0,:] = [107,500,0] # production constraint\n",
        "A[1,:] = [107,500,0] # storage constraint\n",
        "A[2,:] = [72,121,65] # demand constraint\n",
        "A[3,:] = [72,121,65]\n",
        "A[4,:] = [1,0,0]\n",
        "A[5,:] = [0,1,0]\n",
        "A[6,:] = [0,0,1]\n",
        "b = np.array([5000,50000,2000,2250,10,10,10]) # limits on production, storage, and demand\n",
        "sense = np.array(['>','<','>','<','<','<','<'])"
      ],
      "metadata": {
        "id": "7dz7jOMhQ-BJ"
      },
      "execution_count": null,
      "outputs": []
    },
    {
      "cell_type": "code",
      "source": [
        " # all constraints are less than or equal constraints\n",
        "ojModel = gp.Model() # initialize an empty model\n",
        "\n",
        "ojModX = ojModel.addMVar(3) # tell the model how many variables there are\n",
        "#ojModX = ojModel.addMVar(2,lb=np.array([-np.inf,0]),ubnp.array([0,np/inf]))\n",
        "ojModCon = ojModel.addMConstrs(A, ojModX, sense, b) \n",
        "ojModel.setMObjective(None,obj,0,sense=gp.GRB.MINIMIZE) \n",
        "\n",
        "ojModel.Params.OutputFlag = 0 \n",
        "ojModel.Params.TimeLimit = 3600\n",
        "ojModel.optimize() \n",
        "ojModel.objVal \n",
        "ojModX.x "
      ],
      "metadata": {
        "id": "BbvkzI7JQ-iW",
        "colab": {
          "base_uri": "https://localhost:8080/"
        },
        "outputId": "5da9f1ee-505a-412f-f16f-2f32b10e2c6d"
      },
      "execution_count": null,
      "outputs": [
        {
          "output_type": "execute_result",
          "data": {
            "text/plain": [
              "array([ 1.94444444, 10.        , 10.        ])"
            ]
          },
          "metadata": {},
          "execution_count": 8
        }
      ]
    },
    {
      "cell_type": "code",
      "source": [
        "# answer \n",
        "1.94\n"
      ],
      "metadata": {
        "id": "-F76Fqd_Q-mz",
        "colab": {
          "base_uri": "https://localhost:8080/"
        },
        "outputId": "4b69807e-49fa-4b74-f515-7c963945811a"
      },
      "execution_count": 28,
      "outputs": [
        {
          "output_type": "execute_result",
          "data": {
            "text/plain": [
              "1.94"
            ]
          },
          "metadata": {},
          "execution_count": 28
        }
      ]
    },
    {
      "cell_type": "code",
      "source": [],
      "metadata": {
        "id": "hg-TspImQ-pf"
      },
      "execution_count": null,
      "outputs": []
    },
    {
      "cell_type": "code",
      "source": [],
      "metadata": {
        "id": "UI1vJnkfQ-sI"
      },
      "execution_count": null,
      "outputs": []
    },
    {
      "cell_type": "markdown",
      "source": [
        "QUESTION 5\n",
        "\n",
        "Paper and wood products companies need to define cutting schedules that will maximize the total wood yield of their forests over some planning period. Suppose that a firm with control of 2 forest units wants to identify the best cutting schedule over a planning horizon of 3 years. Forest unit 1 has a total acreage of 2 and unit 2 has a total of 3 acres. The studies that the company has undertaken predict that each acre in unit 1(2) will have 1, 1.3, 1.4 (1, 1.2, 1.6) tons of woods per acre available for harvesting in year 1, 2, 3 respectively. Based on its prediction of economic conditions, the company believes that it should harvest at least 1.2, 1.5, 2 tons of wood in year 1, 2, 3 separately. Due to the availability of equipment and personnel, the company can harvest at most 2, 2, 3 tons of wood in year 1, 2, 3. Find the company’s best cutting strategy that maximizes the total weights of wood. Here discounting of the time value should not be considered.  If some fraction of a forest unit is cut down in year 1, that part of the forest cannot be cut again for the remaining 2 years.  Similarly if some fraction of the forest unit is cut down in year 2 it cannot be cut in year 3.\n",
        "\n",
        " \n",
        "\n",
        "In year 3, how many acres of forest unit 2 should be cut down?  Round to 2 decimal places."
      ],
      "metadata": {
        "id": "P1i79gkgQ-5q"
      }
    },
    {
      "cell_type": "code",
      "source": [],
      "metadata": {
        "id": "nyrH-uYHREP7"
      },
      "execution_count": null,
      "outputs": []
    },
    {
      "cell_type": "code",
      "source": [
        "obj = np.array([1,1.3,1.4,1,1.2,1.6]) #objective vector\n",
        "A = np.zeros((8,6)) \n",
        "A[0,:] = [1,1,1,0,0,0] \n",
        "A[1,:] = [0,0,0,1,1,1] \n",
        "A[2,:] = [1,0,0,1,0,0]\n",
        "A[3,:] = [1,0,0,1,0,0]\n",
        "A[4,:] = [0,1.3,0,0,1.2,0]\n",
        "A[5,:] = [0,1.3,0,0,1.2,0]\n",
        "A[6,:] = [0,0,1.4,0,0,1.6]\n",
        "A[7,:] = [0,0,1.4,0,0,1.6]\n",
        "b = np.array([2,3,1.2,2,1.5,2,2,3])\n",
        "sense = np.array(['<','<','>','<','>','<','>','<'])"
      ],
      "metadata": {
        "id": "2-aotD94Hh2g"
      },
      "execution_count": 24,
      "outputs": []
    },
    {
      "cell_type": "code",
      "source": [
        "A"
      ],
      "metadata": {
        "colab": {
          "base_uri": "https://localhost:8080/"
        },
        "id": "XGVH4sOKHh5b",
        "outputId": "80798b45-a6cb-46b1-c861-3fcac18cd0e9"
      },
      "execution_count": 25,
      "outputs": [
        {
          "output_type": "execute_result",
          "data": {
            "text/plain": [
              "array([[1. , 1. , 1. , 0. , 0. , 0. ],\n",
              "       [0. , 0. , 0. , 1. , 1. , 1. ],\n",
              "       [1. , 0. , 0. , 1. , 0. , 0. ],\n",
              "       [1. , 0. , 0. , 1. , 0. , 0. ],\n",
              "       [0. , 1.3, 0. , 0. , 1.2, 0. ],\n",
              "       [0. , 1.3, 0. , 0. , 1.2, 0. ],\n",
              "       [0. , 0. , 1.4, 0. , 0. , 1.6],\n",
              "       [0. , 0. , 1.4, 0. , 0. , 1.6]])"
            ]
          },
          "metadata": {},
          "execution_count": 25
        }
      ]
    },
    {
      "cell_type": "code",
      "source": [
        "ojModel = gp.Model() # initialize an empty model\n",
        "\n",
        "ojModX = ojModel.addMVar(6) # tell the model how many variables there are\n",
        "#ojModX = ojModel.addMVar(2,lb=np.array([-np.inf,0]),ubnp.array([0,np/inf]))\n",
        "\n",
        "ojModCon = ojModel.addMConstrs(A, ojModX, sense, b) # add the constraints to the model\n",
        "ojModel.setMObjective(None,obj,0,sense=gp.GRB.MAXIMIZE) # add the objective to the model...we'll talk about the None and the 0\n",
        "\n",
        "ojModel.Params.OutputFlag = 0 \n",
        "ojModel.Params.TimeLimit = 3600\n",
        "ojModel.optimize() \n",
        "ojModel.objVal \n",
        "ojModX.x.round(2) "
      ],
      "metadata": {
        "colab": {
          "base_uri": "https://localhost:8080/"
        },
        "id": "MPzfmnKVHh8Q",
        "outputId": "9e6de6a8-f251-49a7-f4ba-879fca9786b4"
      },
      "execution_count": 26,
      "outputs": [
        {
          "output_type": "execute_result",
          "data": {
            "text/plain": [
              "array([0.46153846, 1.53846154, 0.        , 1.125     , 0.        ,\n",
              "       1.875     ])"
            ]
          },
          "metadata": {},
          "execution_count": 26
        }
      ]
    },
    {
      "cell_type": "code",
      "source": [
        "#Answer\n",
        "1.88"
      ],
      "metadata": {
        "id": "zcvelUf_SmkG",
        "colab": {
          "base_uri": "https://localhost:8080/"
        },
        "outputId": "848df3b7-1885-4076-af79-db7a3ae7117c"
      },
      "execution_count": 27,
      "outputs": [
        {
          "output_type": "execute_result",
          "data": {
            "text/plain": [
              "1.88"
            ]
          },
          "metadata": {},
          "execution_count": 27
        }
      ]
    },
    {
      "cell_type": "code",
      "source": [],
      "metadata": {
        "id": "03Pb-q_Mh6ck"
      },
      "execution_count": null,
      "outputs": []
    }
  ]
}